{
 "cells": [
  {
   "cell_type": "markdown",
   "id": "6c8212e7-a22c-4da0-bb92-09bd26bee768",
   "metadata": {},
   "source": [
    "# Ques 1:"
   ]
  },
  {
   "cell_type": "markdown",
   "id": "fa674923-b2bb-4398-850e-792296ab9909",
   "metadata": {},
   "source": [
    "### We use for loop when we know how many time do we have execute the code inside the loop."
   ]
  },
  {
   "cell_type": "code",
   "execution_count": null,
   "id": "26149ea4-f36a-4d29-a4a2-11d3fb0f5648",
   "metadata": {},
   "outputs": [],
   "source": [
    "#  For loop example: to print even numbers from the list\n",
    "l1 = [1, 2, 3, 4, 5] \n",
    "for i in l1:\n",
    "    if i%2==0:\n",
    "        print(i)"
   ]
  },
  {
   "cell_type": "markdown",
   "id": "793503fa-f34d-4f9a-a8c9-8f6bdfb2755e",
   "metadata": {},
   "source": [
    "### We use while loop when we are not sure how many times we have to repeat the loop and so we set a condition."
   ]
  },
  {
   "cell_type": "code",
   "execution_count": null,
   "id": "09454882-78f4-4b3b-aa6d-ec1fb91a412c",
   "metadata": {},
   "outputs": [],
   "source": [
    "# While loop example: using while loop to find factorial of a number\n",
    "num = int(input(\"Enter the number: \"))\n",
    "factorial = 1\n",
    "while num>0:\n",
    "    factorial = factorial*num\n",
    "    num = num - 1\n",
    "print(factorial)"
   ]
  },
  {
   "cell_type": "markdown",
   "id": "86768a8e-d250-4312-947a-809c796d5ddb",
   "metadata": {},
   "source": [
    "# Ques 2:"
   ]
  },
  {
   "cell_type": "code",
   "execution_count": null,
   "id": "c50b0d54-85b9-4a0b-8f61-325c1d8e1c61",
   "metadata": {},
   "outputs": [],
   "source": [
    "# sum and product of n natural numbers using for loop\n",
    "n = int(input(\"Enter the numbers: \"))\n",
    "l1 = list(range(1, n+1))\n",
    "sum = 0\n",
    "product = 1\n",
    "for i in l1:\n",
    "    sum = sum + i\n",
    "    product = product * i\n",
    "print(sum)\n",
    "print(product)"
   ]
  },
  {
   "cell_type": "code",
   "execution_count": null,
   "id": "0133cb16-c91e-4758-b4d5-93e637434939",
   "metadata": {},
   "outputs": [],
   "source": [
    "# sum and product of n natural numbers using while loop\n",
    "n = int(input(\"Enter the number: \"))\n",
    "l1 = list(range(1, n+1))\n",
    "sum = 0\n",
    "product = 1\n",
    "i = 0\n",
    "while i<=n-1:\n",
    "    sum = sum + l1[i]\n",
    "    product = product * l1[i]\n",
    "    i+=1\n",
    "print(sum)\n",
    "print(product)"
   ]
  },
  {
   "cell_type": "markdown",
   "id": "32c8f15b-0113-4aff-9ae3-6f0cb2ae19c5",
   "metadata": {},
   "source": [
    "# Ques 3:"
   ]
  },
  {
   "cell_type": "code",
   "execution_count": null,
   "id": "3686e5f3-78f7-4eb4-ae65-cd246d9cb141",
   "metadata": {},
   "outputs": [],
   "source": [
    "units = int(input(\"Enter the number of units consumed: \"))\n",
    "if units <=100:\n",
    "    bill = 4.5 * units\n",
    "elif units>100 and units<=200:\n",
    "    bill = (4.5 * 100)+(6*(units-100))\n",
    "elif units>200 and units<=300:\n",
    "    bill = (4.5*100)+(6*100)+(10*(units-200))\n",
    "else:\n",
    "    bill = (4.5*100)+(6*100)+(10*100)+(20*(units-300))\n",
    "print(\"Your electricity charges are: \", bill)"
   ]
  },
  {
   "cell_type": "markdown",
   "id": "348a9fd1-026e-43e3-9210-bd7e2b830196",
   "metadata": {},
   "source": [
    "# Ques 4:"
   ]
  },
  {
   "cell_type": "code",
   "execution_count": null,
   "id": "f2b871e9-7b44-4336-9a85-6369467435cd",
   "metadata": {},
   "outputs": [],
   "source": [
    "# Using for loop\n",
    "l1 = list(range(1,101))\n",
    "l2 = []\n",
    "for numbers in l1:\n",
    "    if (numbers**3)%4==0 or (numbers**3)%5==0:\n",
    "        l2.append(numbers)\n",
    "print(l2)"
   ]
  },
  {
   "cell_type": "code",
   "execution_count": null,
   "id": "f731a539-7a07-4a8c-80c3-84258644106b",
   "metadata": {},
   "outputs": [],
   "source": [
    "# Using while loop\n",
    "l1 = list(range(1, 101))\n",
    "l2 = []\n",
    "i = 1\n",
    "while i<len(l1):\n",
    "    if (l1[i]**3)%4==0 or (l1[i]**3)%5==0:\n",
    "        l2.append(l1[i])\n",
    "    i+=1\n",
    "print(l2)"
   ]
  },
  {
   "cell_type": "markdown",
   "id": "f58e8c23-be20-41e5-b141-5d70116f9750",
   "metadata": {},
   "source": [
    "# Ques 5:"
   ]
  },
  {
   "cell_type": "code",
   "execution_count": null,
   "id": "07d65364-3100-4663-8f10-25022d7b6268",
   "metadata": {},
   "outputs": [],
   "source": [
    "str1 = \"I want to become a data scientist\"\n",
    "count = 0\n",
    "for i in str1:\n",
    "    if i.lower() == 'a' or i.lower() == 'e' or i.lower() == 'i' or i.lower() == 'o' or i.lower() == 'u':\n",
    "        count +=1\n",
    "print(count)"
   ]
  }
 ],
 "metadata": {
  "kernelspec": {
   "display_name": "Python 3 (ipykernel)",
   "language": "python",
   "name": "python3"
  },
  "language_info": {
   "codemirror_mode": {
    "name": "ipython",
    "version": 3
   },
   "file_extension": ".py",
   "mimetype": "text/x-python",
   "name": "python",
   "nbconvert_exporter": "python",
   "pygments_lexer": "ipython3",
   "version": "3.10.8"
  }
 },
 "nbformat": 4,
 "nbformat_minor": 5
}
